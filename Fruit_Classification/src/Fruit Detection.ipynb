{
 "cells": [
  {
   "cell_type": "markdown",
   "metadata": {},
   "source": [
    "**Importing Libraries**"
   ]
  },
  {
   "cell_type": "code",
   "execution_count": 1,
   "metadata": {},
   "outputs": [],
   "source": [
    "import numpy as np\n",
    "import glob\n",
    "import os\n",
    "import cv2\n",
    "from sklearn.preprocessing import StandardScaler\n",
    "import time\n",
    "from sklearn.decomposition import PCA\n",
    "from sklearn import svm\n",
    "from sklearn.linear_model import SGDClassifier\n",
    "from sklearn.ensemble import RandomForestClassifier\n",
    "from sklearn.naive_bayes import GaussianNB\n",
    "from sklearn.neighbors import KNeighborsClassifier\n",
    "from sklearn.metrics import confusion_matrix\n",
    "from sklearn.metrics import accuracy_score\n",
    "from sklearn.metrics import f1_score\n",
    "import matplotlib.pyplot as plt\n",
    "import pickle"
   ]
  },
  {
   "cell_type": "markdown",
   "metadata": {},
   "source": [
    "**Creating object for Standard Scaler**"
   ]
  },
  {
   "cell_type": "code",
   "execution_count": 2,
   "metadata": {},
   "outputs": [],
   "source": [
    "scaler = StandardScaler()"
   ]
  },
  {
   "cell_type": "markdown",
   "metadata": {},
   "source": [
    "**Loading and preprocessing the training dataset**"
   ]
  },
  {
   "cell_type": "code",
   "execution_count": 3,
   "metadata": {},
   "outputs": [
    {
     "name": "stderr",
     "output_type": "stream",
     "text": [
      "/usr/local/lib/python3.5/dist-packages/sklearn/utils/validation.py:595: DataConversionWarning: Data with input dtype uint8 was converted to float64 by StandardScaler.\n",
      "  warnings.warn(msg, DataConversionWarning)\n",
      "/usr/local/lib/python3.5/dist-packages/sklearn/utils/validation.py:595: DataConversionWarning: Data with input dtype uint8 was converted to float64 by StandardScaler.\n",
      "  warnings.warn(msg, DataConversionWarning)\n"
     ]
    }
   ],
   "source": [
    "fruit_training = []\n",
    "labels_training = []\n",
    "for fruit_dir_path in glob.glob(\"fruits-360/Training/*\"):\n",
    "    fruit_label = fruit_dir_path.split(\"/\")[-1]\n",
    "    for image_path in glob.glob(os.path.join(fruit_dir_path, \"*.jpg\")):\n",
    "        image = cv2.imread(image_path, cv2.IMREAD_COLOR)\n",
    "        image = cv2.cvtColor(image, cv2.COLOR_RGB2GRAY)\n",
    "        image = cv2.resize(image, (50, 50))\n",
    "        fruit_training.append(image.flatten())\n",
    "        labels_training.append(fruit_label)        \n",
    "fruit_training = np.array(fruit_training)\n",
    "labels_training = np.array(labels_training)\n",
    "fruit_training = scaler.fit_transform(fruit_training)\n",
    "label_to_id_dict = {v: i for i,v in enumerate(np.unique(labels_training))}\n",
    "id_to_label_dict = {v: k for k, v in label_to_id_dict.items()}\n",
    "label_ids_training = np.array([label_to_id_dict[x] for x in labels_training])"
   ]
  },
  {
   "cell_type": "markdown",
   "metadata": {},
   "source": [
    "**Loading and preprocessing the test dataset**"
   ]
  },
  {
   "cell_type": "code",
   "execution_count": 4,
   "metadata": {},
   "outputs": [
    {
     "name": "stderr",
     "output_type": "stream",
     "text": [
      "/usr/local/lib/python3.5/dist-packages/sklearn/utils/validation.py:595: DataConversionWarning: Data with input dtype uint8 was converted to float64 by StandardScaler.\n",
      "  warnings.warn(msg, DataConversionWarning)\n"
     ]
    }
   ],
   "source": [
    "fruit_test = []\n",
    "labels_test = []\n",
    "for fruit_dir_path in glob.glob(\"fruits-360/Test/*\"):\n",
    "    fruit_label = fruit_dir_path.split(\"/\")[-1]\n",
    "    for image_path in glob.glob(os.path.join(fruit_dir_path, \"*.jpg\")):\n",
    "        image = cv2.imread(image_path, cv2.IMREAD_COLOR)\n",
    "        image = cv2.cvtColor(image, cv2.COLOR_RGB2GRAY)\n",
    "        image = cv2.resize(image, (50, 50))\n",
    "        fruit_test.append(image.flatten())\n",
    "        labels_test.append(fruit_label)\n",
    "fruit_test = np.array(fruit_test)\n",
    "fruit_test = scaler.transform(fruit_test)\n",
    "labels_test = np.array(labels_test)\n",
    "label_to_id_dict = {v: i for i,v in enumerate(np.unique(labels_test))}\n",
    "id_to_label_dict = {v: k for k, v in label_to_id_dict.items()}\n",
    "label_ids_test = np.array([label_to_id_dict[x] for x in labels_test])"
   ]
  },
  {
   "cell_type": "markdown",
   "metadata": {},
   "source": [
    "**PCA**"
   ]
  },
  {
   "cell_type": "code",
   "execution_count": 5,
   "metadata": {},
   "outputs": [],
   "source": [
    "pca = PCA(0.95)\n",
    "pca.fit(fruit_training)\n",
    "pca_fruit_training = pca.transform(fruit_training)\n",
    "pca_fruit_test = pca.transform(fruit_test)"
   ]
  },
  {
   "cell_type": "code",
   "execution_count": 6,
   "metadata": {},
   "outputs": [],
   "source": [
    "a = []"
   ]
  },
  {
   "cell_type": "markdown",
   "metadata": {},
   "source": [
    "<h3>Random Forest Classifier"
   ]
  },
  {
   "cell_type": "code",
   "execution_count": 7,
   "metadata": {},
   "outputs": [
    {
     "name": "stdout",
     "output_type": "stream",
     "text": [
      "--- 10.148839235305786 seconds ---\n"
     ]
    }
   ],
   "source": [
    "start_time = time.time()\n",
    "rfc_classifier = RandomForestClassifier(n_estimators = 100, random_state = 0)\n",
    "rfc_classifier = rfc_classifier.fit(pca_fruit_training, label_ids_training)\n",
    "print(\"--- %s seconds ---\" % (time.time() - start_time))"
   ]
  },
  {
   "cell_type": "markdown",
   "metadata": {},
   "source": [
    "    Prediction"
   ]
  },
  {
   "cell_type": "code",
   "execution_count": 8,
   "metadata": {},
   "outputs": [
    {
     "name": "stdout",
     "output_type": "stream",
     "text": [
      "Accuracy with Random Forest Classifier: 85.916920%\n"
     ]
    }
   ],
   "source": [
    "y_pred = rfc_classifier.predict(pca_fruit_test)\n",
    "rfc_precision = accuracy_score(y_pred, label_ids_test) * 100\n",
    "a.append(rfc_precision)\n",
    "print(\"Accuracy with Random Forest Classifier: {0:.6f}%\".format(rfc_precision))"
   ]
  },
  {
   "cell_type": "markdown",
   "metadata": {},
   "source": [
    "<h3>SVM Classifier"
   ]
  },
  {
   "cell_type": "code",
   "execution_count": 9,
   "metadata": {},
   "outputs": [
    {
     "name": "stdout",
     "output_type": "stream",
     "text": [
      "--- 3.9055378437042236 seconds ---\n"
     ]
    }
   ],
   "source": [
    "start_time = time.time()\n",
    "svm_classifier = svm.SVC(C = 7,\n",
    "                         kernel = \"rbf\",\n",
    "                         gamma = 0.0006,\n",
    "                         random_state = 0)\n",
    "svm_classifier = svm_classifier.fit(pca_fruit_training, label_ids_training)\n",
    "print(\"--- %s seconds ---\" % (time.time() - start_time))"
   ]
  },
  {
   "cell_type": "markdown",
   "metadata": {},
   "source": [
    "    Prediction"
   ]
  },
  {
   "cell_type": "code",
   "execution_count": 10,
   "metadata": {},
   "outputs": [
    {
     "name": "stdout",
     "output_type": "stream",
     "text": [
      "Accuracy with SVM: 91.185410%\n"
     ]
    }
   ],
   "source": [
    "y_pred = svm_classifier.predict(pca_fruit_test)\n",
    "svm_precision = accuracy_score(y_pred, label_ids_test) * 100\n",
    "a.append(svm_precision)\n",
    "print(\"Accuracy with SVM: {0:.6f}%\".format(svm_precision))"
   ]
  },
  {
   "cell_type": "markdown",
   "metadata": {},
   "source": [
    "<h3>Softmax Classifier"
   ]
  },
  {
   "cell_type": "code",
   "execution_count": 11,
   "metadata": {},
   "outputs": [
    {
     "name": "stdout",
     "output_type": "stream",
     "text": [
      "--- 0.8543627262115479 seconds ---\n"
     ]
    }
   ],
   "source": [
    "start_time = time.time()\n",
    "sgd_classifier = SGDClassifier(max_iter = 1000,\n",
    "                               tol = 1e-1,\n",
    "                               random_state = 0);\n",
    "sgd_classifier = sgd_classifier.fit(pca_fruit_training, label_ids_training)\n",
    "print(\"--- %s seconds ---\" % (time.time() - start_time))"
   ]
  },
  {
   "cell_type": "markdown",
   "metadata": {},
   "source": [
    "    Prediction"
   ]
  },
  {
   "cell_type": "code",
   "execution_count": 12,
   "metadata": {},
   "outputs": [
    {
     "name": "stdout",
     "output_type": "stream",
     "text": [
      "Accuracy with Softmax: 74.738264%\n"
     ]
    }
   ],
   "source": [
    "y_pred = sgd_classifier.predict(pca_fruit_test)\n",
    "sgd_precision = accuracy_score(y_pred, label_ids_test) * 100\n",
    "a.append(sgd_precision)\n",
    "print(\"Accuracy with Softmax: {0:.6f}%\".format(sgd_precision))"
   ]
  },
  {
   "cell_type": "markdown",
   "metadata": {},
   "source": [
    "<h3>Naive Bayes Classifier"
   ]
  },
  {
   "cell_type": "code",
   "execution_count": 13,
   "metadata": {},
   "outputs": [
    {
     "name": "stdout",
     "output_type": "stream",
     "text": [
      "--- 0.31200265884399414 seconds ---\n"
     ]
    }
   ],
   "source": [
    "start_time = time.time()\n",
    "nbc_classifier = GaussianNB()\n",
    "nbc_classifier = nbc_classifier.fit(fruit_training, label_ids_training)\n",
    "print(\"--- %s seconds ---\" % (time.time() - start_time))"
   ]
  },
  {
   "cell_type": "markdown",
   "metadata": {},
   "source": [
    "    Prediction"
   ]
  },
  {
   "cell_type": "code",
   "execution_count": 14,
   "metadata": {},
   "outputs": [
    {
     "name": "stdout",
     "output_type": "stream",
     "text": [
      "Accuracy with Naive Bayes: 70.989531%\n"
     ]
    }
   ],
   "source": [
    "y_pred = nbc_classifier.predict(fruit_test)\n",
    "nbc_precision = accuracy_score(y_pred, label_ids_test) * 100\n",
    "a.append(nbc_precision)\n",
    "print(\"Accuracy with Naive Bayes: {0:.6f}%\".format(nbc_precision))"
   ]
  },
  {
   "cell_type": "markdown",
   "metadata": {},
   "source": [
    "<h3>K Nearest Neighbours Classifier"
   ]
  },
  {
   "cell_type": "code",
   "execution_count": 15,
   "metadata": {},
   "outputs": [
    {
     "name": "stdout",
     "output_type": "stream",
     "text": [
      "--- 0.06762409210205078 seconds ---\n"
     ]
    }
   ],
   "source": [
    "start_time = time.time()\n",
    "knn_classifier = KNeighborsClassifier(n_neighbors = 1,\n",
    "                                  metric = 'minkowski',\n",
    "                                  p = 2,\n",
    "                                  algorithm = 'auto',\n",
    "                                  weights = 'distance')\n",
    "knn_classifier = knn_classifier.fit(pca_fruit_training, label_ids_training)\n",
    "print(\"--- %s seconds ---\" % (time.time() - start_time))"
   ]
  },
  {
   "cell_type": "markdown",
   "metadata": {},
   "source": [
    "    Prediction"
   ]
  },
  {
   "cell_type": "code",
   "execution_count": 16,
   "metadata": {},
   "outputs": [
    {
     "name": "stdout",
     "output_type": "stream",
     "text": [
      "Accuracy with K Nearest Neighbors: 89.091523%\n"
     ]
    }
   ],
   "source": [
    "y_pred = knn_classifier.predict(pca_fruit_test)\n",
    "knn_precision = accuracy_score(y_pred, label_ids_test) * 100\n",
    "a.append(knn_precision)\n",
    "print(\"Accuracy with K Nearest Neighbors: {0:.6f}%\".format(knn_precision))"
   ]
  },
  {
   "cell_type": "markdown",
   "metadata": {},
   "source": [
    "**Graphical Representation of data**"
   ]
  },
  {
   "cell_type": "code",
   "execution_count": 17,
   "metadata": {},
   "outputs": [
    {
     "data": {
      "text/plain": [
       "['Random Forest', 'SVM', 'Softmax', 'Naive Bayes', 'KNN']"
      ]
     },
     "execution_count": 17,
     "metadata": {},
     "output_type": "execute_result"
    }
   ],
   "source": [
    "models = ['Random Forest', 'SVM', 'Softmax', 'Naive Bayes', 'KNN']\n",
    "y_pos = np.arange(len(models))\n",
    "y_pos\n",
    "models"
   ]
  },
  {
   "cell_type": "code",
   "execution_count": 18,
   "metadata": {},
   "outputs": [
    {
     "data": {
      "text/plain": [
       "[85.91691995947315,\n",
       " 91.1854103343465,\n",
       " 74.73826409996622,\n",
       " 70.98953056399864,\n",
       " 89.09152313407633]"
      ]
     },
     "execution_count": 18,
     "metadata": {},
     "output_type": "execute_result"
    }
   ],
   "source": [
    "a"
   ]
  },
  {
   "cell_type": "code",
   "execution_count": 19,
   "metadata": {},
   "outputs": [
    {
     "data": {
      "image/png": "[encoded data removed]",
      "text/plain": [
       "<Figure size 432x288 with 1 Axes>"
      ]
     },
     "metadata": {},
     "output_type": "display_data"
    }
   ],
   "source": [
    "plt.bar(y_pos, a, align = 'center', alpha = 0.5)\n",
    "plt.xticks(y_pos, models)\n",
    "plt.ylabel('Accuracy')\n",
    "plt.title('Comparison of Accuracies')\n",
    "plt.show()"
   ]
  }
 ],
 "metadata": {
  "kernelspec": {
   "display_name": "Python 3",
   "language": "python",
   "name": "python3"
  },
  "language_info": {
   "codemirror_mode": {
    "name": "ipython",
    "version": 3
   },
   "file_extension": ".py",
   "mimetype": "text/x-python",
   "name": "python",
   "nbconvert_exporter": "python",
   "pygments_lexer": "ipython3",
   "version": "3.5.2"
  }
 },
 "nbformat": 4,
 "nbformat_minor": 2
}
